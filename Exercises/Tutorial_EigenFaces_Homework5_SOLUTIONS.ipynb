{
 "cells": [
  {
   "cell_type": "markdown",
   "metadata": {},
   "source": [
    "## Tutorial and Homework 5 (SOLUTIONS!): Modeling Faces using PCA \n",
    "\n",
    "### In this tutorial, and associated homework, we will model faces using PCA, and learn how to detect a smile.  \n"
   ]
  },
  {
   "cell_type": "code",
   "execution_count": null,
   "metadata": {},
   "outputs": [],
   "source": [
    "import numpy as np\n",
    "from scipy.io import loadmat\n",
    "import matplotlib.pyplot as plt\n",
    "from sklearn.decomposition import PCA "
   ]
  },
  {
   "cell_type": "markdown",
   "metadata": {},
   "source": [
    "#### In the attached file, I have 72 faces, each one 50 pixels x 50 pixels.\n",
    "#### 36 faces are labeled \"neutral\" while 36 faces are labeled \"smiling\"  "
   ]
  },
  {
   "cell_type": "code",
   "execution_count": null,
   "metadata": {},
   "outputs": [],
   "source": [
    "f = loadmat('data/faces.mat')\n",
    "faces = f['faces'] #This are the faces.  There are 72 faces closely cropped to the boundary of the face.\n",
    "smiling = f['smiling'][0] #Flag to indicate if the face was a smile. 0 means neutral expression and 1 means smiling."
   ]
  },
  {
   "cell_type": "markdown",
   "metadata": {},
   "source": [
    "#### Visualize some of the faces"
   ]
  },
  {
   "cell_type": "code",
   "execution_count": null,
   "metadata": {},
   "outputs": [],
   "source": [
    "sample = 48\n",
    "plt.figure()\n",
    "plt.imshow(faces[sample,:,:],cmap='gray',vmin = 0,vmax = 255) #why did i choose 0,255 (hint: 8 bit images)\n",
    "plt.title('Face ' + str(sample))\n",
    "#plt.axis('off')\n",
    "plt.colorbar()"
   ]
  },
  {
   "cell_type": "markdown",
   "metadata": {},
   "source": [
    "#### Here's a little code box I used to get some empirical information on the the faces "
   ]
  },
  {
   "cell_type": "code",
   "execution_count": null,
   "metadata": {},
   "outputs": [],
   "source": [
    "print('min ',np.min(faces))\n",
    "print('max ',np.max(faces))\n"
   ]
  },
  {
   "cell_type": "markdown",
   "metadata": {},
   "source": [
    "#### Lets get the mean face "
   ]
  },
  {
   "cell_type": "code",
   "execution_count": null,
   "metadata": {},
   "outputs": [],
   "source": [
    "meanface = np.mean(faces,axis = 0)\n",
    "plt.figure()\n",
    "plt.imshow(meanface,cmap='gray',vmin = 0,vmax = 255) #why did i choose 0,255 (hint: 8 bit images)\n",
    "plt.title('Average Face')\n",
    "#plt.axis('off')\n",
    "plt.colorbar()"
   ]
  },
  {
   "cell_type": "markdown",
   "metadata": {},
   "source": [
    "#### Problem #1 Visualize the mean face for smiling and neutral faces.  \n",
    "####            Also make an image of the difference between the two mean faces. "
   ]
  },
  {
   "cell_type": "code",
   "execution_count": null,
   "metadata": {},
   "outputs": [],
   "source": [
    "#make your code here\n",
    "mean_smilingface = np.mean(faces[smiling == 1,:,:],axis = 0)\n",
    "plt.figure()\n",
    "plt.imshow(mean_smilingface,cmap='gray',vmin = 0,vmax = 255) #why did i choose 0,255 (hint: 8 bit images)\n",
    "plt.title('Average Smiling Face')\n",
    "#plt.axis('off')\n",
    "plt.colorbar()\n",
    "#make your code here\n",
    "mean_neutralface = np.mean(faces[smiling == 0,:,:],axis = 0)\n",
    "plt.figure()\n",
    "plt.imshow(mean_neutralface,cmap='gray',vmin = 0,vmax = 255) #why did i choose 0,255 (hint: 8 bit images)\n",
    "plt.title('Average Smiling Face')\n",
    "#plt.axis('off')\n",
    "plt.colorbar()\n",
    "diff_meanface = mean_smilingface-mean_neutralface\n",
    "plt.figure()\n",
    "plt.imshow(diff_meanface,cmap='gray') #notice i didnt put a vmin and vmax \n",
    "#plt.axis('off')\n",
    "plt.colorbar()\n",
    "plt.title('Smiling Face - Neutral Face')\n",
    "plt.figure()\n",
    "plt.imshow(diff_meanface,cmap='jet',vmin = -30, vmax = 30) #notice i didnt put a vmin and vmax \n",
    "#plt.axis('off')\n",
    "plt.colorbar()\n",
    "plt.title('Smiling Face - Neutral Face')"
   ]
  },
  {
   "cell_type": "markdown",
   "metadata": {},
   "source": [
    "#### If we were to do a statistical test of the difference between smiling and neutral faces, the simplest thing to do is to use an independent samples **t-test**\n",
    "#### The first 36 images are neutral and the next 36 images are smiling faces.  \n",
    "#### What we will do is at each image pixel we will do a t-test comparing the 36 values for a neutral face to the 36 values for smiling face \n"
   ]
  },
  {
   "cell_type": "code",
   "execution_count": null,
   "metadata": {},
   "outputs": [],
   "source": [
    "from scipy.stats import ttest_ind\n",
    "#\n",
    "t,p = ttest_ind(faces[smiling == 1,:,:],faces[smiling == 0,:,:],axis = 0)\n",
    "plt.figure()\n",
    "plt.imshow(t,cmap='jet',vmin = -5, vmax=5)\n",
    "plt.title('t statistic: smiling-neutral')\n",
    "#plt.axis('off')\n",
    "plt.colorbar()"
   ]
  },
  {
   "cell_type": "markdown",
   "metadata": {},
   "source": [
    "#### A t-statistic is a simple measure of the differences between two sets of observations.  Its the difference in mean divided by a pooled estimate of standard deviation, https://vitalflux.com/two-sample-t-test-formula-examples/"
   ]
  },
  {
   "cell_type": "code",
   "execution_count": null,
   "metadata": {},
   "outputs": [],
   "source": [
    "plt.figure()\n",
    "plt.imshow(np.log10(p),cmap='jet')\n",
    "plt.title('p values: smiling-neutral')\n",
    "#plt.axis('off')\n",
    "plt.colorbar()\n",
    "plt.show()"
   ]
  },
  {
   "cell_type": "markdown",
   "metadata": {},
   "source": [
    "#### Lets examine what this means.  Clearly at two locations in the mouth region there is a large difference between the two samples (smiling and neutral faces).  \n",
    "\n",
    "#### I want to remind you of what **Significance** means in a statistical test. "
   ]
  },
  {
   "cell_type": "code",
   "execution_count": null,
   "metadata": {},
   "outputs": [],
   "source": [
    "alpha = 0.05 #significance level \n",
    "nsig = len(p  < alpha)\n",
    "print('nigs: ', nsig)\n",
    "ntests = 50*50\n",
    "print('ntests :', ntests)\n",
    "false_rate = ntests*alpha \n",
    "print('false_rate:', false_rate)"
   ]
  },
  {
   "cell_type": "markdown",
   "metadata": {},
   "source": [
    "#### PCA analysis of faces\n",
    "\n",
    "# FROM NOW I AM GOING TO FOLLOW SCIKIT LEARN NOMENCLATURE. \n",
    "# A COMPONENT IS AN EIGENVECTOR - WE WILL CALL IT A COMPONENT.  \n",
    "# WE ALSO GET BACK EIGENVALUES WHICH SCIKIT CALLS EXPLAINED_VARIANCE \n",
    "# LOADINGS ARE THE PROJECTIONS OF THE EIGENVECTORS ON THE DATA.  YOU GET THAT BY ROTATING THE DATA ONTO THE EIGENVECTORS"
   ]
  },
  {
   "cell_type": "code",
   "execution_count": null,
   "metadata": {},
   "outputs": [],
   "source": [
    "faces2 = faces.reshape(72,50*50) # the data matrix is 72 by 2500 and there are 2500 variables and 72 observations.  \n",
    "meanfaces2 = meanface.reshape(50*50)\n",
    "ncomp = 70  # I am going to choose to look at 72 components. \n",
    "pca = PCA(n_components = ncomp) #decide of number of components. ALWAYS less than or equal to smaller dimension of data matrix\n",
    "pca.fit(faces2) #fit the model\n",
    "face_components = pca.components_ #get the eigenvectors (remember, they are rows!)\n",
    "face_eigenvalues = pca.explained_variance_ #get the explained variance\n",
    "face_percentage_explained  = 100*face_eigenvalues/sum(face_eigenvalues)\n",
    "face_loadings = pca.transform(faces2)"
   ]
  },
  {
   "cell_type": "markdown",
   "metadata": {},
   "source": [
    "#### Some notes on the dimensionality and meaning of the various quantities in the above expressions. \n",
    "\n",
    "* #### nobs = 72 (the number of faces)\n",
    "* #### nvars = 50x50 = 2500 (the total number of pixels)\n",
    "* #### ncomp = 70 (I chose this as 70 for convenience.  It must be the less than the lesser of nobs and nvars ) \n",
    "\n",
    "* #### faces2 has dimensions (nobs,nvars)\n",
    "* #### face_components has dimensions (ncomp,nvars)\n",
    "* #### face_eigenvalues has dimensions (ncomp)\n",
    "* ####  face_loadings has dimensions (nobs,ncomp)\n",
    "\n",
    "### THE IMPORTANT RELATIONSHIPS\n",
    "\n",
    "### 1. Reducing the dimensionality of the data \n",
    "\n",
    "* #### faces2 = face_loadings*face_components\n",
    "* #### (nobs,nvars) = (nobs,ncomp)(ncomp,nvars)\n",
    "\n",
    "### The important thing is I dont have to actually use all the eigenvectors in face_components and face_loadings.  If i choose to keep the first nc components i can do \n",
    "\n",
    "* #### faces2_reconstructed = face_loadings[:,range(nc)]*face_componets[range(nc),:]\n",
    "* ####    (nobs,nvars) = (nobs,nc)(nc,nvars)\n",
    "\n",
    "#### This will produce some error but it hopefully isnt very much.\n",
    "\n",
    "### 2.  I can work in the components space with a much smaller data matrix. \n",
    "\n",
    "#### face_loadings is the critical variable here. It contains the variance of of the original data which had nvars = 2500 variables in ncomp = 70 variables. \n",
    "#### Actually, I could choose to only use nc of the components even further reducing the dimensionality of the data.    \n",
    "\n"
   ]
  },
  {
   "cell_type": "markdown",
   "metadata": {},
   "source": [
    "#### Examine the explained variance. "
   ]
  },
  {
   "cell_type": "code",
   "execution_count": null,
   "metadata": {},
   "outputs": [],
   "source": [
    "plt.figure()\n",
    "plt.bar(np.arange(0,ncomp,1),face_eigenvalues)\n",
    "plt.xlabel('Component Number')\n",
    "plt.ylabel('Eigenvalues')\n",
    "plt.figure()\n",
    "plt.bar(np.arange(0,ncomp,1),face_percentage_explained)\n",
    "plt.xlabel('Component Number')\n",
    "plt.ylabel('Percentage Variance')\n",
    "plt.figure()\n",
    "plt.bar(np.arange(0,ncomp,1),np.cumsum(face_percentage_explained))\n",
    "plt.xlabel('Component Number')\n",
    "plt.ylabel('Percentage Variance')\n",
    "\n"
   ]
  },
  {
   "cell_type": "markdown",
   "metadata": {},
   "source": [
    "#### Im going to use reshape to reshape the COMPONENTS (eigenvectors) into images"
   ]
  },
  {
   "cell_type": "markdown",
   "metadata": {},
   "source": [
    "### Problem #2  Visualize using imshow the first 5 COMPONENT eigenvectors.  \n",
    "\n",
    "#### To help you do this problem, I am going to reshape the loading vector back into the shape of the original image"
   ]
  },
  {
   "cell_type": "code",
   "execution_count": null,
   "metadata": {},
   "outputs": [],
   "source": [
    "face_components_image = face_components.reshape(ncomp,50,50)\n",
    "### write your code here to look at the first 5 loading vectors as images \n",
    "for j in range(5):\n",
    "    plt.figure()\n",
    "    plt.imshow(face_components_image[j,:,:],cmap='gray') \n",
    "    plt.title('')\n",
    "    plt.colorbar()\n",
    "    plt.show()"
   ]
  },
  {
   "cell_type": "markdown",
   "metadata": {},
   "source": [
    "### Discuss the scale of the figure above. "
   ]
  },
  {
   "cell_type": "code",
   "execution_count": null,
   "metadata": {},
   "outputs": [],
   "source": [
    "face_components_norm = np.sum(face_components**2,axis = 1)\n"
   ]
  },
  {
   "cell_type": "markdown",
   "metadata": {},
   "source": [
    "#### How do these images load on the individual subjects?"
   ]
  },
  {
   "cell_type": "code",
   "execution_count": null,
   "metadata": {},
   "outputs": [],
   "source": [
    "c = 0\n",
    "plt.plot(face_loadings[smiling == 0,c],'ro-')\n",
    "plt.plot(face_loadings[smiling == 1,c],'bo-')\n",
    "plt.legend(('neutral','smiling'))\n",
    "plt.show()\n"
   ]
  },
  {
   "cell_type": "markdown",
   "metadata": {},
   "source": [
    "#### Problem #3 Use the independent samples t test on the face_loadings variables\n",
    "#### Find which components capture the difference between neutral and smiling and visualize them"
   ]
  },
  {
   "cell_type": "code",
   "execution_count": null,
   "metadata": {},
   "outputs": [],
   "source": [
    "#Here, you run ttest_ind on the face_loadings.  A test statistic should be computer for each of the ncomp eigenvectors.  \n",
    "\n",
    "[t_loadings,p_loadings] = ttest_ind(face_loadings[smiling == 1,:],face_loadings[smiling == 0,:],axis = 0)\n",
    "plt.bar(np.arange(0,ncomp,1),t_loadings)\n",
    "plt.grid()\n",
    "nmax = np.argmax(t_loadings)\n",
    "nmin = np.argmax(t_loadings)\n",
    "plt.figure()\n",
    "plt.imshow(face_components_image[nmax,:,:],cmap='gray') \n",
    "plt.title('Highest positive t statistic smiling > neutral')\n",
    "plt.colorbar()\n",
    "plt.show()\n",
    "plt.figure()\n",
    "plt.imshow(face_components_image[nmin,:,:],cmap='gray') \n",
    "plt.title('Highest negative t statistic smiling < neutral')\n",
    "plt.colorbar()\n",
    "plt.show()\n"
   ]
  },
  {
   "cell_type": "markdown",
   "metadata": {},
   "source": [
    "#### Finally, out of completeness, I demonstrate that I can reconstruct the images from the eigenfaces "
   ]
  },
  {
   "cell_type": "code",
   "execution_count": null,
   "metadata": {},
   "outputs": [],
   "source": [
    "imageno = 10\n",
    "nc = [0,2,4,8,16,32,64,70]\n",
    "for j in range(len(nc)):\n",
    "    compface = face_loadings[imageno,np.arange(nc[j])]@face_components[np.arange(nc[j]),:]\n",
    "    makeface = compface.reshape(50,50) +meanface\n",
    "    plt.figure()\n",
    "    plt.imshow(makeface,cmap='gray',vmin = 0,vmax = 255)\n",
    "    plt.title('Number of eigenfaces ' + str(nc[j]))\n",
    "    plt.colorbar()\n",
    "\n",
    "f1 = faces[imageno,:,:]\n",
    "plt.figure()\n",
    "plt.imshow(f1,cmap='gray',vmin = 0,vmax = 255)\n",
    "plt.title('Image no: ' + str(imageno))\n",
    "plt.colorbar() \n",
    "plt.show()"
   ]
  },
  {
   "cell_type": "code",
   "execution_count": null,
   "metadata": {},
   "outputs": [],
   "source": []
  }
 ],
 "metadata": {
  "kernelspec": {
   "display_name": "Python 3.9.12 ('eeg')",
   "language": "python",
   "name": "python3"
  },
  "language_info": {
   "codemirror_mode": {
    "name": "ipython",
    "version": 3
   },
   "file_extension": ".py",
   "mimetype": "text/x-python",
   "name": "python",
   "nbconvert_exporter": "python",
   "pygments_lexer": "ipython3",
   "version": "3.9.12"
  },
  "orig_nbformat": 4,
  "vscode": {
   "interpreter": {
    "hash": "865db03388ba9bb0c3ffa1f5a9ec6862d804daa515edd12d6b924569723c412d"
   }
  }
 },
 "nbformat": 4,
 "nbformat_minor": 2
}
